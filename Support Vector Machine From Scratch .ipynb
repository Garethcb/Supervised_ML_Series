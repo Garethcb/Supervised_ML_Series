{
 "cells": [
  {
   "cell_type": "code",
   "execution_count": 3,
   "metadata": {},
   "outputs": [],
   "source": [
    "import numpy as np\n",
    "import matplotlib.pyplot as plt\n",
    "from mpl_toolkits.mplot3d import Axes3D\n",
    "import seaborn as sns\n",
    "import pandas as pd\n",
    "from sklearn.metrics import r2_score\n",
    "from sklearn.model_selection import GridSearchCV\n",
    "from sklearn.datasets import make_regression\n",
    "import matplotlib.lines as mlines\n",
    "from sklearn.model_selection import train_test_split"
   ]
  },
  {
   "cell_type": "markdown",
   "metadata": {},
   "source": [
    "# Hard Margin SVM\n",
    "$$\\underset{w}{min}\\frac{1}{2}\\|w\\|^{2}$$\n",
    "$$st.\\forall i, y_i(w.x+b)\\geq 1$$\n",
    "\n",
    "- I like starting with the algorithym and then working up to it so that it looks familiar when we finally derive it"
   ]
  },
  {
   "cell_type": "markdown",
   "metadata": {},
   "source": [
    "# Soft Margin SVM\n",
    "$$\\underset{w,b,\\xi_i \\geq 0}{min}\\quad\\frac{1}{2}\\|w\\|^{2} + C\\sum_{i=1}^{n}\\xi_i$$\n",
    "  \n",
    "  \n",
    "$$st.\\forall i, y_i(w.x+b)\\geq 1 -\\xi_i $$"
   ]
  },
  {
   "cell_type": "markdown",
   "metadata": {},
   "source": [
    "# SVM Application Example\n",
    "- We see SVM application in spam filtering where our dependent variable $y_i \\in \\{-1,1\\}$ namely not spam and spam.  \n",
    "  \n",
    "  \n",
    "- Our class space $y$ is binary and thus this is a binary classification problem.  \n",
    "   \n",
    "   \n",
    "- To do this classification we use linear models  \n",
    "  \n",
    "  \n",
    "- So think in terms of a linear equation:\n",
    "\n",
    "$$ f(x) =\n",
    "  \\begin{cases}\n",
    "    +1       & \\quad \\text{if } w^{(1)}x^{(1)}+w^{(2)}x^{(2)}+ . . . + w^{(d)}x^{(d)} \\geq \\theta \\\\\n",
    "    -1  & \\quad \\text{otherwise }\n",
    "  \\end{cases}\n",
    "$$\n",
    "\n",
    "- We will predict that the email is spam if the weighted combination of words in the document (independent varialbes $x$) is greater than some threshold ($\\theta$) theta, otherwise we will predict not spam.   \n",
    "  \n",
    "  \n",
    "- Notably, our decision boundary is linear. \n",
    "  \n",
    "  \n",
    "- Therefore we want to find our blue line below where $w.x = \\theta$  \n",
    "  \n",
    "  \n",
    "- If our weighted function is positive (follows the red line direction) we make one prediction and vis versa.  \n",
    "  \n",
    "  \n",
    "- Our goal is to find $w$ such that our line $w.x = \\theta$ separates spam from non-spam\n",
    "\n",
    "##### Linear Classifier\n",
    "\n",
    "- Each feature has a weight $w_i$ associated with it  \n",
    "  \n",
    "  \n",
    "- Our prediction is based upon the weighted sum: $$f(x) = \\sum_{i}^{n}w^{(i)}x^{(i)} = w.x$$\n",
    "\n",
    "If $f(x)$ is:\n",
    "- Positive we predict +1\n",
    "- Negative we predict -1"
   ]
  },
  {
   "cell_type": "code",
   "execution_count": 4,
   "metadata": {},
   "outputs": [
    {
     "data": {
      "text/plain": [
       "<matplotlib.legend.Legend at 0x7fe95aaf4b90>"
      ]
     },
     "execution_count": 4,
     "metadata": {},
     "output_type": "execute_result"
    },
    {
     "data": {
      "image/png": "[encoded data removed]",
      "text/plain": [
       "<Figure size 432x288 with 1 Axes>"
      ]
     },
     "metadata": {
      "needs_background": "light"
     },
     "output_type": "display_data"
    }
   ],
   "source": [
    "x = [3.5,4,5,4.5,3,4.2,4.8,5.2,3.6,4.9,3.1,3.4]\n",
    "y = [4,5,4.5,3,4.2,4.8,5.2,3.6,4.9,3.1,3.4,3]\n",
    "\n",
    "x_2 = [1.5,2,1.5,3.5,2,1.2,1.8,3.2,2.6,2.9,3.1,1.4]\n",
    "y_2 = [2,2.5,1.1,2,1.2,1.8,2.2,2.1,2.2,2.1,1.4,1.5]\n",
    "\n",
    "plt.plot([0,6],[0,0],'k--')\n",
    "plt.plot([0,0],[0,6],'k--')\n",
    "plt.scatter(x,y)\n",
    "plt.scatter(x_2,y_2)\n",
    "plt.plot([5,1],[1,5],'b--',label ='$w.x = 𝜃$')\n",
    "plt.axis('off')\n",
    "plt.plot([2,2.5],[4,5],'r--')\n",
    "plt.legend()"
   ]
  },
  {
   "cell_type": "markdown",
   "metadata": {},
   "source": [
    "# What is the Best Linear Separator (defined by w)?\n",
    "- The distance from the separating hyperplane corresponds to the confidence of predictions.  \n",
    "  \n",
    "  \n",
    "- We are more sure about the predictions of dot points further away from our hyperplane\n",
    "\n",
    "- Is the red, green or blue plane the best seperator?"
   ]
  },
  {
   "cell_type": "code",
   "execution_count": 5,
   "metadata": {},
   "outputs": [
    {
     "data": {
      "text/plain": [
       "<matplotlib.legend.Legend at 0x7fe95ac1cf10>"
      ]
     },
     "execution_count": 5,
     "metadata": {},
     "output_type": "execute_result"
    },
    {
     "data": {
      "image/png": "[encoded data removed]",
      "text/plain": [
       "<Figure size 432x288 with 1 Axes>"
      ]
     },
     "metadata": {
      "needs_background": "light"
     },
     "output_type": "display_data"
    }
   ],
   "source": [
    "x = [3.5,4,5,4.5,3,4.2,4.8,5.2,3.6,4.9,3.1,3.4]\n",
    "y = [4,5,4.5,3,4.2,4.8,5.2,3.6,4.9,3.1,3.4,3]\n",
    "\n",
    "x_2 = [1.5,2,1.5,3.5,2,1.2,1.8,3.2,2.6,2.9,3.1,1.4]\n",
    "y_2 = [2,2.5,1.1,2,1.2,1.8,2.2,2.1,2.2,2.1,1.4,1.5]\n",
    "\n",
    "plt.plot([0,6],[0,0],'k--')\n",
    "plt.plot([0,0],[0,6],'k--')\n",
    "plt.scatter(x,y)\n",
    "plt.scatter(x_2,y_2)\n",
    "plt.plot([5.2,1],[1.5,4],'b--',label ='$w.x = 𝜃$')\n",
    "plt.plot([5,1],[1,5],'g--')\n",
    "plt.plot([4.3,1],[1.3,6],'r--')\n",
    "plt.axis('off')\n",
    "\n",
    "plt.legend()"
   ]
  },
  {
   "cell_type": "markdown",
   "metadata": {},
   "source": [
    "# Largest Margin \n",
    "- This is were SVM gets its nickname large margin classifier  \n",
    "  \n",
    "  \n",
    "- Denoted by $\\gamma$: Our margin is defined by the distance of the closest example from the decision line/hyperplane  \n",
    "  \n",
    "  \n",
    "- We can see that the first plot below has a larger margin $\\gamma$ meaning the distance to the closest data point is larger than in plot two  \n",
    "  \n",
    "  \n",
    "- The points with the smallest margins are the ones closest to the decision boundary Below. these are the two points that lie on the dashed green lines parallel to the decision boundary.  \n",
    "  \n",
    "  \n",
    "- Thus, only two points corresponding to these two training examples—will be non-zero at the optimal solution to our optimization problem. These two points are called the support vectors in this problem. "
   ]
  },
  {
   "cell_type": "code",
   "execution_count": 6,
   "metadata": {},
   "outputs": [
    {
     "data": {
      "text/plain": [
       "<matplotlib.legend.Legend at 0x7fe95ae7ead0>"
      ]
     },
     "execution_count": 6,
     "metadata": {},
     "output_type": "execute_result"
    },
    {
     "data": {
      "image/png": "[encoded data removed]",
      "text/plain": [
       "<Figure size 432x288 with 1 Axes>"
      ]
     },
     "metadata": {
      "needs_background": "light"
     },
     "output_type": "display_data"
    }
   ],
   "source": [
    "plt.plot([0,6],[0,0],'k--')\n",
    "plt.plot([0,0],[0,6],'k--')\n",
    "plt.scatter(x,y)\n",
    "plt.scatter(x_2,y_2)\n",
    "plt.plot([5.2,1],[1.45,3.95],'b',label ='$w.x = 𝜃$')\n",
    "plt.plot([5.2,1],[1,3.6],'g--')\n",
    "plt.plot([5.2,1],[1.8,4.3],'g--')\n",
    "plt.axis('off')\n",
    "plt.legend()"
   ]
  },
  {
   "cell_type": "code",
   "execution_count": 7,
   "metadata": {},
   "outputs": [
    {
     "data": {
      "text/plain": [
       "<matplotlib.legend.Legend at 0x7fe95b0204d0>"
      ]
     },
     "execution_count": 7,
     "metadata": {},
     "output_type": "execute_result"
    },
    {
     "data": {
      "image/png": "[encoded data removed]",
      "text/plain": [
       "<Figure size 432x288 with 1 Axes>"
      ]
     },
     "metadata": {
      "needs_background": "light"
     },
     "output_type": "display_data"
    }
   ],
   "source": [
    "plt.plot([0,6],[0,0],'k--')\n",
    "plt.plot([0,0],[0,6],'k--')\n",
    "plt.scatter(x,y)\n",
    "plt.scatter(x_2,y_2)\n",
    "plt.plot([4.3,1],[1.4,5.7],'black',label ='$w.x = 𝜃$')\n",
    "plt.plot([4.3,1],[1.1,5.4],'b--')\n",
    "plt.plot([4.3,1],[1.8,6],'b--')\n",
    "plt.axis('off')\n",
    "\n",
    "plt.legend()\n"
   ]
  },
  {
   "cell_type": "markdown",
   "metadata": {},
   "source": [
    "### Linear Algebra\n",
    "- The value of the dot product of $A.B$ is simply the length of A times the length of B times by the angle between them:\n",
    "\n",
    "$$A.B = \\|A\\|\\|B\\|cos\\theta$$\n",
    "\n",
    "- We take A and project it down to B and the length of this projection is simply the length of A times the cosine of the angle multiplied by the length of B   \n",
    "  \n",
    "  \n",
    "- It is measured in the units of the length of B\n",
    "\n",
    "\n",
    "###### Linear Projection\n",
    "\n",
    "Projection equation:\n",
    "$$ (b-a\\beta)$$\n",
    "\n",
    "- $\\beta$ is our scaler and the point is that we want a scaled version of this line to be as close to b without leaving the line. Therefore, the closest point would be where $b$ meets $a$ at a 90 degree angle.\n",
    "\n",
    "If **b** is orthogonal/perpendicular to **$a\\beta$** we know that their dot prodict must equal zero:\n",
    "$$ a^{T}(b-a\\beta) = 0$$\n",
    "$$ a^{T}b - a^{T}a\\beta = 0$$\n",
    "$$ a^{T}a\\beta = a^{T}b $$\n",
    "\n",
    "Because we are dealing with dot products of vectors we can divide them (cannot divide matrices):\n",
    "\n",
    "$$ \\beta = \\frac{a^{T}b}{a^{T}a} $$\n"
   ]
  },
  {
   "cell_type": "code",
   "execution_count": 8,
   "metadata": {},
   "outputs": [
    {
     "data": {
      "text/plain": [
       "<matplotlib.legend.Legend at 0x7fe95a8e9850>"
      ]
     },
     "execution_count": 8,
     "metadata": {},
     "output_type": "execute_result"
    },
    {
     "data": {
      "image/png": "[encoded data removed]",
      "text/plain": [
       "<Figure size 640x480 with 1 Axes>"
      ]
     },
     "metadata": {
      "needs_background": "light"
     },
     "output_type": "display_data"
    }
   ],
   "source": [
    "a = np.array([4,2])\n",
    "b = np.array([2,4])\n",
    "plt.figure(figsize=(8, 6), dpi=80)\n",
    "beta = (a.T@b) / (a.T@a)\n",
    "plt.plot([0,a[0]],[0,a[1]],'black',label = 'B')\n",
    "plt.scatter(b[0],b[1])\n",
    "plt.plot([b[0], beta*a[0]],[b[1], beta*a[1]],'o--')\n",
    "plt.plot([-5,5],[0,0],'k--')\n",
    "plt.plot([0,0],[-5,5],'k--')\n",
    "plt.plot([0,2],[0,4],label = 'A')\n",
    "plt.grid()\n",
    "plt.axis('square')\n",
    "plt.title('Vector Projections')\n",
    "plt.legend()"
   ]
  },
  {
   "cell_type": "markdown",
   "metadata": {},
   "source": [
    "# Our Margin\n",
    "- Our Line: $$w.x+b= w^{(1)}x^{(1)}+w^{(2)}x^{(2)} + b = 0$$\n",
    "\n",
    "- Point A: $x_A^{(1)},x_A^{(2)}$  denoted by the blue dot [x = 2,y = 4]\n",
    "    \n",
    "    \n",
    "- w vector: $w = w^{(1)},w^{(2)} $  green line\n",
    "    \n",
    "    \n",
    "- Point M which is an arbitrary point that lays on the line: $x_M^{(1)},x_M^{(2)}$\n",
    "  \n",
    "  \n",
    "- We would like to find the distance between A and our Line namely what is the distance of that projection:   \n",
    "  \n",
    "  \n",
    "$$d(A,L) = |AH|$$\n",
    "\n",
    "$$|(A-M).w|$$\n",
    "\n",
    "- Where H is the point at which A is perpendicular to L denoted by the lower blue dot  \n",
    "  \n",
    "  \n",
    "\n",
    "- Since M belongs to the Line M = -b  \n",
    "  \n",
    "  \n",
    "\n",
    "- Therefore, the distance of point A and the Line is simply the orthogonal vector w dotted with A plus the offset term b:\n",
    "\n",
    "$$= w.A+b$$"
   ]
  },
  {
   "cell_type": "code",
   "execution_count": 9,
   "metadata": {},
   "outputs": [
    {
     "data": {
      "text/plain": [
       "<matplotlib.legend.Legend at 0x7fe95b2c8810>"
      ]
     },
     "execution_count": 9,
     "metadata": {},
     "output_type": "execute_result"
    },
    {
     "data": {
      "image/png": "[encoded data removed]",
      "text/plain": [
       "<Figure size 640x480 with 1 Axes>"
      ]
     },
     "metadata": {
      "needs_background": "light"
     },
     "output_type": "display_data"
    }
   ],
   "source": [
    "a = np.array([4,2])\n",
    "b = np.array([2,4])\n",
    "plt.figure(figsize=(8, 6), dpi=80)\n",
    "beta = (a.T@b) / (a.T@a)\n",
    "plt.plot([0,a[0]],[0,a[1]],'black',label = 'L')\n",
    "plt.scatter(b[0],b[1])\n",
    "plt.plot([b[0], beta*a[0]],[b[1], beta*a[1]],'o--')\n",
    "plt.plot([1,2],[0.5,4],label = 'A')\n",
    "plt.plot([4,3.5],[2,2.9],label = 'w')\n",
    "plt.grid()\n",
    "plt.axis('square')\n",
    "plt.title('Vector Projections')\n",
    "plt.legend()"
   ]
  },
  {
   "cell_type": "markdown",
   "metadata": {},
   "source": [
    "## Largest Margin\n",
    "\n",
    "So how will we use this knowledge of porjections to form our classification algorithym?\n",
    "\n",
    "Prediction : $sign(w.x+b)$ \n",
    "\n",
    "- Prediction is base upon whether sign is positive/negative\n",
    "\n",
    "Confidence : $(w.x+b)y$\n",
    "    \n",
    "Confidence in our prediction for i-th datapoint: \n",
    "    $\\gamma_i = (w.x+b)y_i$\n",
    "    \n",
    "- It is the confidence in our prediction times the class $y_i$ of that prediction  \n",
    "  \n",
    "  \n",
    "- If confidence is negative and class is negative then we get positive  \n",
    "  \n",
    "  \n",
    "- If confidence is negative and class is positive then we get negative  \n",
    "  \n",
    "  \n",
    "- Misclassification will result in negative sign\n",
    "\n",
    "#### What do we want to solve\n",
    "- We want to find w (the separating hyperplane) such that all our training data has a margin that is as large as possible\n",
    "$$\\underset{w}{max}\\ \\underset{i}{min} \\gamma_i$$\n",
    "\n",
    "- Find w where the smallest margin is as large as possible \n",
    "\n",
    "$$\\underset{w,y}{max}\\ \\gamma $$\n",
    "$$st.\\forall i, y_i(w.x+b)\\geq \\gamma$$\n",
    "\n",
    "- Find w that Maximizes our margin $\\gamma$ \n",
    "- Such that (s.t) \n",
    "- For all our training examples ($\\forall i$) \n",
    "- The margin of our training example $y_i(w.x+b)$ is atlest $\\gamma$\n",
    "\n",
    "###### Maximising $\\gamma$\n",
    "- We want to find a line that maximizes the distance of our closest points to the line (margin)  \n",
    "  \n",
    "  \n",
    "- This line is defined by a few points that are the closest and these make up our Support Vectors  \n",
    "  \n",
    "  \n",
    "- The seperating hyperplane is defined by only those support vectors. "
   ]
  },
  {
   "cell_type": "code",
   "execution_count": 10,
   "metadata": {},
   "outputs": [
    {
     "data": {
      "text/plain": [
       "<matplotlib.legend.Legend at 0x7fe95b37ef10>"
      ]
     },
     "execution_count": 10,
     "metadata": {},
     "output_type": "execute_result"
    },
    {
     "data": {
      "image/png": "[encoded data removed]",
      "text/plain": [
       "<Figure size 432x288 with 1 Axes>"
      ]
     },
     "metadata": {
      "needs_background": "light"
     },
     "output_type": "display_data"
    }
   ],
   "source": [
    "\n",
    "plt.plot([0,6],[0,0],'k--')\n",
    "plt.plot([0,0],[0,6],'k--')\n",
    "plt.scatter(x,y)\n",
    "plt.scatter(x_2,y_2)\n",
    "plt.plot([5.2,1],[1.45,3.95],'b',label ='$w.x+b = 0$')\n",
    "plt.plot([3.27,3.37],[2.55,2.87],'g',label = '$\\gamma$')\n",
    "plt.plot([3.55,3.62],[2.1,2.35],'g')\n",
    "\n",
    "plt.axis('off')\n",
    "plt.legend()"
   ]
  },
  {
   "cell_type": "markdown",
   "metadata": {},
   "source": [
    "# How do we find the vector w that maximises our margin?\n",
    "#### Canonical Hyperplane problem\n",
    "- Arbitrarly scaling our weight vector results in our margin also increasing.\n",
    "$$(w.x+b)y = \\gamma$$\n",
    "$$(2w.x+2b)y = 2\\gamma$$\n",
    "\n",
    "- The solution is to normalize our w such that:\n",
    "\n",
    "$$\\gamma = (\\frac{w}{\\|w\\|}.x+b)y$$\n",
    "\n",
    "\n",
    "$$\\|w\\| = \\sqrt{\\sum_{i=1}^{d}(w^{(j)})^{2}}$$\n",
    "\n",
    "\n",
    "- We will also require that our support vector $x_j$ will be on the plane defined by w such that:\n",
    "\n",
    "$$w.x_j+b = \\pm 1$$\n",
    "\n",
    "- Since we have normalized $w$ the length of the margin on either side is $\\frac{w}{\\|w\\|}$ (unit length One)\n",
    "\n",
    "#### Canonical Hyperplane Solution\n",
    "\n",
    "- We still want to maximize our margin $\\gamma$  \n",
    "\n",
    " \n",
    " \n",
    "- What do we know about $x_1$ relationship to $x_2$:\n",
    "\n",
    "$$x_1 = x_2+2\\gamma \\frac{w}{\\|w\\|}$$\n",
    "\n",
    "- $2\\gamma \\frac{w}{\\|w\\|}$ comes from the fact that either side of the margin is $\\frac{w}{\\|w\\|}$ denoted in terms of our margin $\\gamma$  \n",
    "  \n",
    "  \n",
    "\n",
    "- We also know that our support vector lay on the lines:\n",
    "$$w.x_1+b =-1$$\n",
    "$$w.x_2+b =1$$\n",
    "\n",
    "- Solving our simulataneous equation:\n",
    "$$w.x_1+b =-1$$\n",
    "$$x_1 = x_2+2\\gamma \\frac{w}{\\|w\\|}$$\n",
    "\n",
    "$$= w(x_2 + 2\\gamma \\frac{w}{\\|w\\|}) +b = 1$$\n",
    "  \n",
    "$$= w.x_2 +b + 2\\gamma \\frac{w.w}{\\|w\\|}) = 1$$\n",
    "\n",
    "- $w.x_2 +b$ we know is just equal to -1\n",
    "\n",
    "$$\\gamma = \\frac{\\|w\\|}{w.w} = \\frac{1}{\\|w\\|} $$"
   ]
  },
  {
   "cell_type": "code",
   "execution_count": 11,
   "metadata": {},
   "outputs": [
    {
     "data": {
      "text/plain": [
       "(-0.25, 5.25, -0.25, 5.25)"
      ]
     },
     "execution_count": 11,
     "metadata": {},
     "output_type": "execute_result"
    },
    {
     "data": {
      "image/png": "[encoded data removed]",
      "text/plain": [
       "<Figure size 640x480 with 1 Axes>"
      ]
     },
     "metadata": {
      "needs_background": "light"
     },
     "output_type": "display_data"
    }
   ],
   "source": [
    "a = np.array([4,3])\n",
    "b = np.array([1,2])\n",
    "c = np.array([3,1])\n",
    "\n",
    "a_1 = [0.5,1,1.5,0.6,0.9,1.3]\n",
    "a_2 = [2,2.8,3,2.2,2.5,3.5]\n",
    "\n",
    "b_1 = [2.2,2.3,3.5,3,3.2,3.9]\n",
    "b_2 = [0.1,0.2,0.3,0.4,0.4,0.5]\n",
    "\n",
    "plt.figure(figsize=(8, 6), dpi=80)\n",
    "beta = (a.T@b) / (a.T@a)\n",
    "beta_2 = (a.T@c) / (a.T@a)\n",
    "\n",
    "plt.plot([0,a[0]],[0,a[1]],'b',label = \"$w.x+b = 0$\")\n",
    "plt.scatter(b[0],b[1])\n",
    "plt.plot([b[0], beta*a[0]],[b[1], beta*a[1]],'g--')\n",
    "\n",
    "plt.scatter(c[0],c[1])\n",
    "plt.plot([c[0], beta_2*a[0]],[c[1], beta_2*a[1]],'r--')\n",
    "\n",
    "plt.plot([0,5],[0,0],'k--')\n",
    "plt.plot([0,0],[0,5],'k--')\n",
    "\n",
    "plt.plot([0,3],[1.3,3.6],'g--',label = \"$w.x+b = -1$\")\n",
    "plt.plot([1.8,4],[0,1.7],'r--',label = \"$w.x+b = 1$\")\n",
    "plt.scatter(a_1,a_2)\n",
    "plt.scatter(b_1,b_2)\n",
    "\n",
    "plt.grid()\n",
    "plt.axis('square')\n",
    "plt.title('Vector Projections')\n",
    "plt.legend()\n",
    "plt.axis('off')"
   ]
  },
  {
   "cell_type": "markdown",
   "metadata": {},
   "source": [
    "# Maximizing The Margin\n",
    "\n",
    "- So we first start with our optimiztion problem\n",
    "$$\\underset{w,y}{max}\\ \\gamma $$\n",
    "$$st.\\forall i, y_i(w.x+b)\\geq \\gamma$$\n",
    "  \n",
    "  \n",
    "\n",
    "- This stated that we want to find $w$ such that the margin is maximized and the margin is the distance of all the data points have the confidence greater than $\\gamma$  \n",
    "  \n",
    "  \n",
    "- However, we noted (Canonical problem) that this optimization problem can be solved trivially by making $w$ as large as possible, so this is not usefull  \n",
    "  \n",
    "  \n",
    "- That is why we have normalized $w$\n",
    "\n",
    "$$\\underset{max}{\\gamma}\\approx max \\frac{1}{\\|w\\|} \\approx min \\frac{1}{2}\\|w\\|^{2}$$"
   ]
  },
  {
   "cell_type": "markdown",
   "metadata": {},
   "source": [
    "# Hard Margin SVM\n",
    "$$\\underset{w}{min}\\frac{1}{2}\\|w\\|^{2}$$\n",
    "$$st.\\forall i, y_i(w.x+b)\\geq 1$$\n",
    "\n",
    "- We are trying to minimize $w$ such that it has the smallest length which is the same as maximizing the margin\n",
    "  \n",
    "  \n",
    "- Such that forall our training examples they have a confidence greater than 1\n"
   ]
  },
  {
   "cell_type": "markdown",
   "metadata": {},
   "source": [
    "# What do we do if we have Non-Linearly Separable data?"
   ]
  },
  {
   "cell_type": "code",
   "execution_count": 12,
   "metadata": {},
   "outputs": [
    {
     "data": {
      "text/plain": [
       "(-0.30000000000000004, 6.3, -0.30000000000000004, 6.3)"
      ]
     },
     "execution_count": 12,
     "metadata": {},
     "output_type": "execute_result"
    },
    {
     "data": {
      "image/png": "[encoded data removed]",
      "text/plain": [
       "<Figure size 432x288 with 1 Axes>"
      ]
     },
     "metadata": {
      "needs_background": "light"
     },
     "output_type": "display_data"
    }
   ],
   "source": [
    "z = np.array([3.3,4.5])\n",
    "m = np.array([3.4,4])\n",
    "\n",
    "z_1 = np.array([2.5,2.1])\n",
    "m_1 = np.array([2.9,2.1])\n",
    "\n",
    "plt.plot([0,6],[0,0],'k--')\n",
    "plt.plot([0,0],[0,6],'k--')\n",
    "plt.scatter(x,y,marker= '+')\n",
    "plt.scatter(x_2,y_2)\n",
    "plt.plot([5,1],[1,5],'b--',label = \"$w.x+b = 0$\")\n",
    "plt.scatter(x,y, marker = '+')\n",
    "plt.scatter(x_2,y_2,color = 'orange')\n",
    "plt.scatter(z,m,color = 'orange')\n",
    "plt.scatter(z_1,m_1,color = 'green',marker = '+')\n",
    "plt.legend()\n",
    "plt.axis('off')"
   ]
  },
  {
   "cell_type": "markdown",
   "metadata": {},
   "source": [
    "- If data is not separable we need to introduce a penalty  \n",
    "  \n",
    "  \n",
    "- Meaning we want to allow for some margin violation  \n",
    "  \n",
    "  \n",
    "- Therefore, we are still looking for a w that maximizes our margin by minimizing $\\frac{1}{2}\\|w\\|^{2}$ whilst allowing for some margin violations\n",
    "\n",
    "$$\\underset{w}{min}\\frac{1}{2}\\|w\\|^{2} + C(violations)$$\n",
    "  \n",
    "  \n",
    "$$st.\\forall i, y_i(w.x+b)\\geq 1$$"
   ]
  },
  {
   "cell_type": "markdown",
   "metadata": {},
   "source": [
    "# Soft Margin SVM\n",
    "### How to Penalize Mistakes as not all Mistakes are equally bad\n",
    "\n",
    "###### Slack Variable is introduced $\\xi$\n",
    "\n",
    "- Our goal is to find w, b and the slack varialbe $\\xi$ such that the norm of w is small, meaning the margin is large plus the sum of the penalty (margin violations) $\\xi$ is as small as possible  \n",
    "  \n",
    "  \n",
    "- Such that the confidence in our classification is atlest 1 and if it is not one we subtract the value of $\\xi$  \n",
    "  \n",
    "  \n",
    "- When we correctly classify and our confidence is $\\geq1$ we can set $\\xi$ to 0\n",
    "\n",
    "$$\\underset{w,b,\\xi_i \\geq 0}{min}\\quad\\frac{1}{2}\\|w\\|^{2} + C\\sum_{i=1}^{n}\\xi_i$$\n",
    "  \n",
    "  \n",
    "$$st.\\forall i, y_i(w.x+b)\\geq 1 -\\xi_i $$\n",
    "\n",
    "- The value of the slack varaible (penalty) will be the distance from the other side of the margin to the data point\n"
   ]
  },
  {
   "cell_type": "code",
   "execution_count": 13,
   "metadata": {},
   "outputs": [
    {
     "data": {
      "text/plain": [
       "(-0.25, 5.25, -0.25, 5.25)"
      ]
     },
     "execution_count": 13,
     "metadata": {},
     "output_type": "execute_result"
    },
    {
     "data": {
      "image/png": "[encoded data removed]",
      "text/plain": [
       "<Figure size 640x480 with 1 Axes>"
      ]
     },
     "metadata": {
      "needs_background": "light"
     },
     "output_type": "display_data"
    }
   ],
   "source": [
    "a = np.array([4,3])\n",
    "b = np.array([1,2])\n",
    "c = np.array([3,1])\n",
    "d = np.array([1.3,2.7])\n",
    "e = np.array([3,2])\n",
    "\n",
    "a_1 = [0.5,1,1.5,0.6,0.9,1.3]\n",
    "a_2 = [2,2.8,3,2.2,2.5,3.5]\n",
    "\n",
    "b_1 = [2.2,2.3,3.5,3,3.2,3.9]\n",
    "b_2 = [0.1,0.2,0.3,0.4,0.4,0.5]\n",
    "\n",
    "plt.figure(figsize=(8, 6), dpi=80)\n",
    "beta = (a.T@b) / (a.T@a)\n",
    "beta_2 = (a.T@c) / (a.T@a)\n",
    "\n",
    "plt.plot([0,a[0]],[0,a[1]],'black',label = \"$w.x+b = 0$\")\n",
    "#plt.scatter(b[0],b[1])\n",
    "#plt.plot([b[0], beta*a[0]],[b[1], beta*a[1]],'g--')\n",
    "\n",
    "#plt.scatter(c[0],c[1])\n",
    "#plt.plot([c[0], beta_2*a[0]],[c[1], beta_2*a[1]],'r--')\n",
    "\n",
    "plt.plot([0,5],[0,0],'k--')\n",
    "plt.plot([0,0],[0,5],'k--')\n",
    "\n",
    "plt.plot([0,3],[1.3,3.6],'g--',label = \"$w.x+b = -1$\")\n",
    "plt.plot([1.8,4],[0,1.7],'r--',label = \"$w.x+b = 1$\")\n",
    "plt.scatter(a_1,a_2)\n",
    "plt.scatter(b_1,b_2)\n",
    "plt.scatter(1.3,2.7,color = 'orange')\n",
    "plt.scatter(3,2,color = 'blue')\n",
    "\n",
    "\n",
    "plt.plot([2.77,1.33],[0.74,2.65],'r--')\n",
    "plt.plot([3,2.2],[2,3],'g--')\n",
    "\n",
    "plt.grid()\n",
    "plt.axis('square')\n",
    "plt.title('Vector Projections')\n",
    "plt.legend()\n",
    "plt.axis('off')"
   ]
  },
  {
   "cell_type": "markdown",
   "metadata": {},
   "source": [
    "# Natural Form of SVM\n",
    "\n",
    "$$\\underset{w,b}{argmin}\\quad\\frac{1}{2}\\|w\\|^{2} + C\\sum_{i=1}^{n}max\\{0,1-y_i(w.x_i+b)\\}$$\n",
    "  \n",
    "  \n",
    "$$st.\\forall i, y_i(w.x+b)\\geq 1 -\\xi_i $$\n",
    "\n",
    "- Our goal is to find b,w such that our margin is maximized by minimizing $\\frac{1}{2}\\|w\\|^{2}$  \n",
    "  \n",
    "  \n",
    "- $C$ is our regularization term. How much are we allowing margin violations  \n",
    "  \n",
    "  \n",
    "- $max\\{0,1-y_i(w.x_i+b)\\}$: empirical loss L (how well are we fitting our training data)  \n",
    "  \n",
    "  \n",
    "- The left part $\\frac{1}{2}\\|w\\|^{2}$ is trying to max the margin i.e find a good separator while the right side is trying to fit the data as best as possible and the cost of how well we are fitting the data is our empirical loss\n",
    "\n",
    "### Hinge Loss\n",
    "- Standard 0/1 loss results in a misclassification being penalized by 1 and a correct classification receiving 0.  \n",
    "  \n",
    "  \n",
    "- Hinge loss has a hinge at 1 meaning a correct classification (point away from the margin) then we obtain the loss of 0  \n",
    "  \n",
    "  \n",
    "- If classified correctly but within the margin (i.e too close to the margin or on the wrong side of the margin) then we are incurring a penalty proportional to how far away our point is from decision boundary. We can see as the red dotted line below cross the y axis this miscalssification is on the wrong side of the margin and the futher away the higher the line increases i.e the higher the penalty.\n",
    "  \n",
    "  \n",
    "\n",
    "- SVM is optimizing this hinge loss in the $max\\{0,1-y_i(w.x_i+b)\\}$  \n",
    "  \n",
    "  \n",
    "- Since $\\|w\\|^{2}$ this is a quadratic objective function and the standard way to solve this is with a quadratic solver software (generally slow and innefficient for large data)."
   ]
  },
  {
   "cell_type": "code",
   "execution_count": 19,
   "metadata": {},
   "outputs": [
    {
     "data": {
      "text/plain": [
       "<matplotlib.legend.Legend at 0x7fe95b371350>"
      ]
     },
     "execution_count": 19,
     "metadata": {},
     "output_type": "execute_result"
    },
    {
     "data": {
      "image/png": "[encoded data removed]",
      "text/plain": [
       "<Figure size 432x288 with 1 Axes>"
      ]
     },
     "metadata": {
      "needs_background": "light"
     },
     "output_type": "display_data"
    }
   ],
   "source": [
    "plt.plot([-6,6],[0,0],'k--')\n",
    "plt.plot([0,0],[0,6],'k--')\n",
    "plt.plot([-6,0],[1.5,1.5],'b')\n",
    "plt.plot([0,0],[0,1.4],'b', label = '0/1 Loss')\n",
    "plt.plot([0,5],[0,0],'b')\n",
    "plt.plot([-3.5,1.5],[5,0],'r--')\n",
    "plt.plot([1.5,5],[0.1,0.1],'r--',label = 'Hinge Loss')\n",
    "plt.axis(False)\n",
    "plt.legend()\n"
   ]
  },
  {
   "cell_type": "code",
   "execution_count": 21,
   "metadata": {},
   "outputs": [],
   "source": [
    " def calculate_cost(W, X, Y):\n",
    "    # calculate hinge loss\n",
    "        N = X.shape[0]\n",
    "        distances = 1 - Y * (np.dot(X, W))\n",
    "        distances[distances < 0] = 0  # equivalent to max(0, distance)\n",
    "        hinge_loss = penalty * (np.sum(distances) / N)\n",
    "    # calculate cost\n",
    "        cost = 1 / 2 * np.dot(W, W) + hinge_loss\n",
    "        return cost"
   ]
  },
  {
   "cell_type": "markdown",
   "metadata": {},
   "source": [
    "# Gradient Descent\n",
    "- Our function is a quadratic function and convex. Therefore, we can use gradient descent to min our function\n",
    "\n",
    "$$f(w,b) = \\frac{1}{2}\\sum_{j=1}^{d}(w^{(j)})^{2} + C\\sum_{i=1}^{n}max\\{0,1-y_i(\\sum_{j=1}^{d}w^{(j)}x^{(j)}_i+b)\\}$$\n",
    "\n",
    "- Find $w,b$ that minimizes our function\n",
    "  \n",
    "  \n",
    "- Inncorrect classification is 1 - distance from the boundary:  \n",
    "  \n",
    "  \n",
    "$$1-y_i(\\sum_{j=1}^{d}w^{(j)}x^{(j)}_i+b)$$  \n",
    "  \n",
    "  \n",
    "- Correct classification is 0  \n",
    "  \n",
    "  \n",
    "\n",
    "- We want to compute the gradient with respect to our weight vector: $\\nabla_j\\text{ w.r.t }w^{(j)}$\n",
    "  \n",
    "$$\\frac{\\partial f(w,b)}{\\partial w^{j}} \\frac{1}{2}\\sum_{j=1}^{d}(w^{(j)})^{2} = 2.\\frac{1}{2}w^{(j)} = w^{(j)}$$\n",
    "\n",
    "$$\\nabla_j = \\frac{\\partial f(w,b)}{\\partial w^{j}} = w^{(j)}+ C\\sum_{i=1}^{n}\\frac{\\partial L(x_i,y_i)}{\\partial w^{j}}$$\n",
    "\n",
    "$$\\frac{\\partial L(x_i,y_i)}{\\partial w^{j}} = 0 \\quad \\text{if } y_i(w^{(j)}x^{(j)}_i+b) \\geq 1$$\n",
    "\n",
    "$$ \\text{otherwise } =  -y_ix^{(j)}_i$$"
   ]
  },
  {
   "cell_type": "code",
   "execution_count": 23,
   "metadata": {},
   "outputs": [],
   "source": [
    "def calculate_cost_gradient(W, X_batch, Y_batch):\n",
    "    # if only one example is passed (eg. in case of SGD)\n",
    "        distance = 1 - (Y_batch * np.dot(X_batch, W))\n",
    "        dw = np.zeros(len(W))\n",
    "        for ind, d in enumerate(distance):\n",
    "            if max(0, d) == 0:\n",
    "                di = W\n",
    "            else:\n",
    "                di = W - (2 * Y_batch[ind] * X_batch[ind])\n",
    "            dw += di\n",
    "        dw = dw/len(Y_batch)  # average\n",
    "        self.dw = dw\n",
    "        return dw"
   ]
  },
  {
   "cell_type": "markdown",
   "metadata": {},
   "source": [
    "# Lagrange Multipliers\n",
    "###### Idea:\n",
    "\n",
    "- Suppose we have a function $f(x,y) = z$ we know this is a surface  \n",
    "  \n",
    "  \n",
    "- suppose we have a contraint $g(x,y)=c$ as it is equal to a constant we know this is a level curve to some surface $g(x,y)=z$  \n",
    "  \n",
    "  \n",
    "- If we take our function and set it equal to a constant $f(x,y) = c$ we have a whole set of level curves  \n",
    "  \n",
    "  \n",
    "- For contrained optimization we have to be on the surface of $f(x,y) = c$ meaning we will be on these levels curves  \n",
    "  \n",
    "  \n",
    "- We also have to be on the constraint $g(x,y)=c$ this specific level curve  \n",
    "  \n",
    "  \n",
    "- We are looking where this specific level curve bounces of our function (constrained maxima or minima)  \n",
    "  \n",
    "  \n",
    "- We know that these functions tangents at the point of bouncing off are parrallel  \n",
    "  \n",
    "  \n",
    "- Parrallel Tangents and therefore Parrallel Normals  \n",
    "  \n",
    "  \n",
    "- The gradient of a Surface gives us normals to the level curves\n"
   ]
  },
  {
   "cell_type": "code",
   "execution_count": 15,
   "metadata": {},
   "outputs": [
    {
     "data": {
      "image/png": "[encoded data removed]",
      "text/plain": [
       "<Figure size 432x288 with 1 Axes>"
      ]
     },
     "metadata": {
      "needs_background": "light"
     },
     "output_type": "display_data"
    }
   ],
   "source": [
    "\n",
    "xlist = np.linspace(-3.0, 3.0, 100)\n",
    "ylist = np.linspace(-3.0, 3.0, 100)\n",
    "X, Y = np.meshgrid(xlist, ylist)\n",
    "Z = np.sqrt(X**2 + Y**2)\n",
    "fig,ax=plt.subplots(1,1)\n",
    "cp = ax.contourf(X, Y, Z)\n",
    "#fig.colorbar(cp) # Add a colorbar to a plot\n",
    "ax.set_title('Level curve of f(x,y) = $c_1,c_2,c_3...$')\n",
    "#ax.set_xlabel('x (cm)')\n",
    "ax.plot()\n",
    "\n",
    "\n",
    "ax.plot([-3,3],[0,0],'k--')\n",
    "ax.plot([0,0],[-3,3],'k--')\n",
    "plt.show()"
   ]
  },
  {
   "cell_type": "markdown",
   "metadata": {},
   "source": [
    "\n",
    "###### If two points intersect and bounce off one another then they share a common tangent or atleast their tangents are scaler multiples\n",
    "- If they share the same tangent then they also have the same normals or atleast the normals are scaler multiples"
   ]
  },
  {
   "cell_type": "markdown",
   "metadata": {},
   "source": [
    "### The normals of the level curves are scaler multiples\n",
    "$$\\underset{f(x,y)}{NORMALS} = k.\\underset{g(x,y)}{NORMALS}$$\n",
    "\n",
    "- What gives us normals to level curves? (gradient)\n",
    "\n",
    "$$\\nabla f(x,y) = k. \\nabla g(x,y)$$\n",
    "\n",
    "- What is the scaler k defined as?\n",
    "\n",
    "$$\\nabla f(x,y) = \\lambda \\nabla g(x,y)$$\n",
    "\n",
    "- Lambda $\\lambda$ is what we define as the Lagrange Multiplier  \n",
    "  \n",
    "  \n",
    "- Scaler multiple i.e Lagrange multiple/ier  \n",
    "  \n",
    "  \n",
    "- Since gradients give us normals of level curves we can extrapolate the same formula for multidimentional functions"
   ]
  },
  {
   "cell_type": "code",
   "execution_count": 16,
   "metadata": {},
   "outputs": [
    {
     "data": {
      "image/png": "[encoded data removed]",
      "text/plain": [
       "<Figure size 432x288 with 1 Axes>"
      ]
     },
     "metadata": {
      "needs_background": "light"
     },
     "output_type": "display_data"
    }
   ],
   "source": [
    "\n",
    "x=np.linspace(3,-3,50)\n",
    "\n",
    "y=np.linspace(3,-3,50)\n",
    "\n",
    "x,y=np.meshgrid(x,y)\n",
    "z=-x**2-2*-x*y+y**2-2*-x\n",
    "levels=[3]\n",
    "xlist = np.linspace(-3.0, 3.0, 100)\n",
    "ylist = np.linspace(-3.0, 3.0, 100)\n",
    "X, Y = np.meshgrid(xlist, ylist)\n",
    "Z = np.sqrt(X**2 + Y**2)\n",
    "fig,ax=plt.subplots(1,1)\n",
    "cp = ax.contourf(X, Y, Z)\n",
    "#fig.colorbar(cp) # Add a colorbar to a plot\n",
    "ax.set_title('Level curve of f(x,y) = $c_1,c_2,c_3...$')\n",
    "#ax.set_xlabel('x (cm)')\n",
    "ax.contour(x,y,z,levels)\n",
    "ax.scatter([0.66],[0.95],marker = '+',color = 'red')\n",
    "\n",
    "ax.plot([-3,3],[0,0],'k--')\n",
    "ax.plot([0,0],[-3,3],'k--')\n",
    "plt.show()"
   ]
  },
  {
   "cell_type": "markdown",
   "metadata": {},
   "source": [
    "# Lagrange Duality and contstrained optimization problems\n",
    "$$\\underset{x}{min}f(x)$$\n",
    "$$\\text{s.t. } g_i(x) = 0$$\n",
    "\n",
    "- In this function our Lagrangian would be:\n",
    "$$L(w,\\beta) = f(x) +\\sum_{i=1}^{l}\\beta_i g_1(w)$$\n",
    "\n",
    "- Here our $\\beta_i$ are our Lagrangian Multipliers  \n",
    "  \n",
    "  \n",
    "- We then set $L’s$ partial derivatives to zero and solve for $x,\\beta$\n",
    "$$\\frac{\\partial L}{\\partial x_i} = 0; \\frac{\\partial L}{\\partial \\beta_i} = 0$$\n",
    "\n"
   ]
  },
  {
   "cell_type": "markdown",
   "metadata": {},
   "source": [
    "# Optimal Margin Classifier\n",
    "- The (primal) optimization problem for finding the optimal margin classifier:\n",
    "$$\\underset{w,b,\\gamma}{min} \\frac{1}{2}\\|w\\|^{2}$$\n",
    "$$st.y_i(w.x^{(i)}+b)\\geq 1$$\n",
    "\n",
    "- Our contraint can be written as :\n",
    "$$g_i(x) = −y^{(i)}(w.x^{(i)} + b) +1 \\leq 0$$\n",
    "\n",
    "\n",
    "- Our goal is to write our algorithm in terms of only the inner product between points in the input feature space.  \n",
    "  \n",
    "  \n",
    "- The fact that we can express our algorithm in terms of these inner products will be key when we apply the kernel trick.\n",
    "\n",
    "$$\\langle x^{(i)},x^{(j)}\\rangle$$\n",
    "\n",
    "- Consturcting our Largrange optimization problem:\n",
    "\n",
    "$$L(w,b,\\alpha) = \\frac{1}{2}\\|w\\|^{2} - \\sum_{i=1}^{m}\\alpha [y^{(i)}(w.x^{(i)} + b) -1]$$\n",
    "\n",
    "- Now taking the partial derivatives:\n",
    "$$\\nabla_w L(w,b,\\alpha) = w - \\sum_{i=1}^{m}\\alpha_i y^{(i)}x^{(i)} $$\n",
    "\n",
    "- This implies that $w$:\n",
    "\n",
    "$$w = \\sum_{i=1}^{m}\\alpha_i y^{(i)}x^{(i)} $$\n",
    "\n",
    "- derivative with respect to $b$:\n",
    "\n",
    "$$\\frac{\\partial}{\\partial b}L(w,b,\\alpha) = \\sum_{i=1}^{m}\\alpha_i y^{(i)} = 0 $$\n",
    "\n",
    "- Taking these two derivatives and plugging them into our Largrange optimization problem:  \n",
    "\n",
    "$$L(w,b,\\alpha) = \\sum_{i=1}^{m}\\alpha_i - \\frac{1}{2}\\sum_{i,j=1}^{m}y^{(i)}y^{(j)}\\alpha_i \\alpha_j (x^{(i)})^{T}x^{(j)} - b \\sum_{i=1}^{m}\\alpha_i y^{(i)} $$  \n",
    "\n",
    "\n",
    "- Since $b$ is equal to zero and $(x^{(i)})^{T}x^{(j)}$ can be written as $\\langle x^{(i)},x^{(j)}\\rangle$:  \n",
    "\n",
    "$$L(w,b,\\alpha) = \\sum_{i=1}^{m}\\alpha_i - \\frac{1}{2}\\sum_{i,j=1}^{m}y^{(i)}y^{(j)}\\alpha_i \\alpha_j \\langle x^{(i)},x^{(j)}\\rangle$$\n",
    "\n",
    "## Dual Optimization Problem\n",
    "- If we have found our $\\alpha$'s, in order to make a prediction we only have to calculate a quantity that depends on the inner product between x and the points in the training set.   \n",
    "  \n",
    "  \n",
    "- Since our $\\alpha$'s will all be zero except for the support vectors many of the terms in the sum below will be zero, and we really need to find only the inner products between x and the support vectors (of which there is often only a small number) in order to make our prediction.  \n",
    "  \n",
    "  \n",
    "- The dual form of the optimization problem, allows us to write the entire algorithm in terms of only inner products between input feature vectors. The resulting algorithm will be able to efficiently learn in very high dimensional spaces.\n",
    "\n",
    "$$\\underset{\\alpha}{max} \\text{ }W(\\alpha) = \\sum_{i=1}^{m}\\alpha_i - \\frac{1}{2}\\sum_{i,j=1}^{m}y^{(i)}y^{(j)}\\alpha_i \\alpha_j \\langle x^{(i)},x^{(j)}\\rangle$$\n",
    "\n",
    "$$st.\\alpha_i \\geq 0$$\n",
    "\n",
    "$$\\sum_{i=1}^{m}\\alpha_i y^{(i)} = 0 $$\n",
    "\n",
    "- Since we worked out that:\n",
    "$$w = \\sum_{i=1}^{m}\\alpha_i y^{(i)}x^{(i)} $$\n",
    "\n",
    "$$w^{T}x+b = (\\sum_{i=1}^{m}\\alpha_i y^{(i)}x^{(i)})^{T} x+b$$\n",
    "\n",
    "- Our predictions can now be written as:\n",
    "\n",
    "$$\\sum_{i=1}^{m}\\alpha_i y^{(i)}\\langle x^{(i)},x\\rangle +b$$"
   ]
  },
  {
   "cell_type": "markdown",
   "metadata": {},
   "source": [
    "# Python Implementation"
   ]
  },
  {
   "cell_type": "code",
   "execution_count": 70,
   "metadata": {},
   "outputs": [],
   "source": [
    "\n",
    "class SVM:\n",
    "\n",
    "    def __init__(self, learning_rate=0.001, lambda_param=0.01, n_iters=1000):\n",
    "        self.lr = learning_rate\n",
    "        self.lambda_param = lambda_param\n",
    "        self.n_iters = n_iters\n",
    "        self.w = None\n",
    "        self.b = None\n",
    "\n",
    "\n",
    "    def fit(self, X, y):\n",
    "        n_samples, n_features = X.shape\n",
    "        \n",
    "        y_ = np.where(y <= 0, -1, 1)\n",
    "        \n",
    "        self.w = np.zeros(n_features)\n",
    "        self.b = 0\n",
    "\n",
    "        for _ in range(self.n_iters):\n",
    "            for idx, x_i in enumerate(X):\n",
    "                condition = y_[idx] * (np.dot(x_i, self.w) - self.b) >= 1\n",
    "                if condition:\n",
    "                    self.w -= self.lr * (2 * self.lambda_param * self.w)\n",
    "                else:\n",
    "                    self.w -= self.lr * (2 * self.lambda_param * self.w - np.dot(x_i, y_[idx]))\n",
    "                    self.b -= self.lr * y_[idx]\n",
    "\n",
    "\n",
    "    def predict(self, X):\n",
    "        approx = np.dot(X, self.w) - self.b\n",
    "        return np.sign(approx)"
   ]
  },
  {
   "cell_type": "code",
   "execution_count": null,
   "metadata": {},
   "outputs": [],
   "source": []
  }
 ],
 "metadata": {
  "kernelspec": {
   "display_name": "Python 3",
   "language": "python",
   "name": "python3"
  },
  "language_info": {
   "codemirror_mode": {
    "name": "ipython",
    "version": 3
   },
   "file_extension": ".py",
   "mimetype": "text/x-python",
   "name": "python",
   "nbconvert_exporter": "python",
   "pygments_lexer": "ipython3",
   "version": "3.7.6"
  }
 },
 "nbformat": 4,
 "nbformat_minor": 4
}
