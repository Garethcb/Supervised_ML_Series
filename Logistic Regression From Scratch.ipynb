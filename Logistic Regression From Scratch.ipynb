{
 "cells": [
  {
   "cell_type": "code",
   "execution_count": 1,
   "metadata": {},
   "outputs": [],
   "source": [
    "from mlxtend.plotting import plot_decision_regions\n",
    "import numpy as np\n",
    "import matplotlib.pyplot as plt\n",
    "from sklearn.metrics import r2_score\n",
    "from sklearn.model_selection import GridSearchCV\n",
    "from sklearn.datasets import make_regression\n",
    "import matplotlib.lines as mlines\n",
    "from sklearn.datasets import load_breast_cancer\n",
    "from sklearn.model_selection import train_test_split\n",
    "from sklearn.metrics import confusion_matrix,accuracy_score\n",
    "import seaborn as sns\n",
    "import pandas as pd\n",
    "import scipy\n",
    "from IPython.display import display\n",
    "from IPython.display import Image"
   ]
  },
  {
   "cell_type": "markdown",
   "metadata": {},
   "source": [
    "# LOGISTIC REGRESSION"
   ]
  },
  {
   "cell_type": "markdown",
   "metadata": {},
   "source": [
    "The goal of binary logistic regression is to train a classifier that can make a binary decision about the class of a new input observation.\n",
    "\n",
    "\n",
    "1. The logistic regression model is a linear model for binary classification.  \n",
    " \n",
    "    - Binary: True or False, Yes or No, 1 or 0 etc.  \n",
    " \n",
    "    - Essentially used to classify an observation into one of two classes   \n",
    "  \n",
    "  \n",
    "2. Notably, it can be extended to multiclass classification   \n",
    "\n",
    "    - Softmax (mulitnomial) regression is a generalisation of Logistic regression \n",
    "  \n",
    "  \n",
    "3. It is a **discriminative classifier** meaning it only tries to learn to distinguish the classes.   \n",
    "\n",
    "  \n",
    "    - Generative classifiers (Naive Bayes) goal is of understanding what are the characteristic of each class (Generate an image)  \n",
    "  \n",
    "  \n"
   ]
  },
  {
   "cell_type": "markdown",
   "metadata": {},
   "source": [
    "## Probabalistic Models"
   ]
  },
  {
   "cell_type": "markdown",
   "metadata": {},
   "source": [
    "To explain logistic regression as a probabilistic model I will introduce the odds ratio (odds in favor of a particular event normally the positive event y = 1).\n",
    "  \n",
    "$$odds = \\frac{p}{1-p}$$\n",
    "\n",
    "Furthermore, the **logit function** is simply the logarithm (natural log) of the odds ratio (log-odds):\n",
    "  \n",
    "$$logit = log\\frac{1}{1-p}$$\n",
    "\n",
    "The logit function takes as input values in the range 0 to 1\n",
    "- transforms them to values over the entire real-number range  \n",
    "  \n",
    "  \n",
    "- this transformation can be used to express a linear relationship between feature values and the log-odds  \n",
    "  \n",
    "  \n",
    "- Here, $p( y =1| x)$ is the conditional probability that a particular sample belongs to\n",
    "class 1 given its features x.\n",
    "  \n",
    "$$logit(p(y=1|x)) = w_0x_0+w_1x_1+...+w_mx_m $$  \n",
    "  \n",
    "  \n",
    "$$= \\sum_{i=1}^{m} w_ix_i $$  \n",
    "  \n",
    "  \n",
    "$$= {\\theta^Tx}$$\n",
    "\n",
    "To convert Log-odds back to odds we take the exponent of the log(odds):   \n",
    "  \n",
    "$$exp(log(odds))$$\n",
    "  \n",
    "Finally, converting Odds back to probability: $$\\frac{odds}{1+odds} = \\frac{e^{log(odds)}}{1+e^{log(odds)}} = \\frac{1}{1+e^{-log(odds)}} $$    \n",
    "  \n",
    "  \n",
    "  \n",
    "  \n",
    "$$= Sigmoid Function$$\n",
    "\n"
   ]
  },
  {
   "cell_type": "markdown",
   "metadata": {},
   "source": [
    "## Candidate best linear fit and candidate log-odds\n",
    "#### Why odds, log-odds and not probability"
   ]
  },
  {
   "cell_type": "markdown",
   "metadata": {},
   "source": [
    " - Notably, our y labled data is binary: $y_i\\in \\{0,1\\}$\n",
    "\n",
    "- Therefore, we need to be able to take input values in the range of 0,1 and transform them to values over the entire real-number range allowing us to fit a candidate best fit linear relationship between the feature values and the candidate log-odd values.\n",
    "\n",
    "\n",
    "   Range of probability = [0,1] \n",
    "   \n",
    "   Range of odds = $[0,\\infty]$\n",
    " \n",
    "   Range of log-odds = $[-\\infty,\\infty]$\n",
    " \n",
    " \n",
    "- A Candidate best fit line (similar to Linear Regression) can be implemented with the projection of the data points onto the trend line that tend to +-infinity on that line. This allows us to obtain the candidate log-odds for each observation. Applying the Sigmoid Function on the log-odd values maps the values into probabilities ranging between 0 to 1.  \n",
    "  \n",
    "  \n",
    "\n",
    "- Now, we are actually interested in predicting the probability that a certain sample belongs to a particular class, which is the EXPONENT form of the logit function. It is also called logistic sigmoid function:   \n",
    "  \n",
    "$$Sigmoid = \\frac{1}{1+e^{-z}}$$\n"
   ]
  },
  {
   "cell_type": "code",
   "execution_count": 38,
   "metadata": {},
   "outputs": [],
   "source": [
    "# Python implementation\n",
    "def sigmoid(z):\n",
    "        return 1/(1+np.exp(-z))"
   ]
  },
  {
   "cell_type": "code",
   "execution_count": 7,
   "metadata": {},
   "outputs": [
    {
     "data": {
      "image/png": "[encoded data removed]",
      "text/plain": [
       "<IPython.core.display.Image object>"
      ]
     },
     "execution_count": 7,
     "metadata": {},
     "output_type": "execute_result"
    }
   ],
   "source": [
    "Image('logreg.png') # matplotlib code displayed in Appendix"
   ]
  },
  {
   "cell_type": "markdown",
   "metadata": {},
   "source": [
    "# Maximum Likelihood Estimation\n",
    "### How well does our sinusoidal (S-shaped) curve fit our data "
   ]
  },
  {
   "cell_type": "markdown",
   "metadata": {},
   "source": [
    "Estamating the parameteres of a probability distribution by maximising a likelihood function so that under the assumed statistical model the observable data is most probable.\n",
    "\n",
    "- We do this via a loss function that prefers the correct class labels of the training examples to be more likely. This is called conditional maximum likelihood.  \n",
    "  \n",
    "  \n",
    "\n",
    "- Therefore, we choose the parameters that maximize the log probability of the true y labels in the training data given the observations x. The resulting loss function is the negative log likelihood loss, generally called the cross-entropy loss.\n",
    "  \n",
    "The best fit candidate line is achieved by rotating it as done in linear regression until we achieve a sinusoidal curve that best classifies our data (selecting the curve with highest **\"Maximum Likelihood Estimation\"**.\n",
    "\n",
    "$$MLE = \\prod_{i:y{(i)}=1}^{m} p(x_i). \\prod_{i:y{(i)}=0}^{m} (1-p(x_i) $$"
   ]
  },
  {
   "cell_type": "markdown",
   "metadata": {},
   "source": [
    "# Probability of Belonging to Class 1"
   ]
  },
  {
   "cell_type": "markdown",
   "metadata": {},
   "source": [
    "Now, we are actually interested in predicting the probability that a certain sample\n",
    "belongs to a particular class, which is the EXPONENT form of the logit function. It is\n",
    "also called logistic sigmoid function: $$Sigmoid = \\frac{1}{1+e^{-z}}$$\n",
    "\n",
    "Noting that z (as shown above):\n",
    "$$z = \\sum_{i=1}^{m} w_ix_i = {\\theta^Tx}$$\n",
    "\n",
    "The output of the sigmoid function is then interpreted as the probability of a\n",
    "particular sample belonging to class 1, $P(y=1|x;w)$, given its features x\n",
    "parameterized by the weights w.\n",
    "\n",
    "We want to know the probability that an observation is a member of a class\n",
    "\n",
    "$$P({y = 1|x; \\theta}) = \\sigma({\\theta^Tx})$$\n",
    "  \n",
    "$$P({y = 0|x; \\theta}) = 1-\\sigma({\\theta^Tx})$$\n",
    "\n",
    "- Wow $\\sigma({\\theta^Tx})$ looks very similar to our hypothesis for Linear Regression but what is $\\sigma$?\n",
    "\n",
    "The predicted probability can then simply be converted into a binary\n",
    "outcome via a threshold function:\n",
    "\n",
    "$$ \\hat{y} =\n",
    "  \\begin{cases}\n",
    "    1       & \\quad \\text{if } \\sigma({\\theta^Tx})\\geq0.5\\\\\n",
    "    0 & \\quad \\text{otherwise }\n",
    "  \\end{cases}\n",
    "$$"
   ]
  },
  {
   "cell_type": "markdown",
   "metadata": {},
   "source": [
    "## Descision Boundary\n",
    "\n",
    "\n",
    "$$ \\hat{y} =\n",
    "  \\begin{cases}\n",
    "    1       & \\quad \\text{if } \\hat{y} \\geq 0.5\\\\\n",
    "    0  & \\quad \\text{if } \\hat{y} < 0.5\n",
    "  \\end{cases}\n",
    "$$\n"
   ]
  },
  {
   "cell_type": "markdown",
   "metadata": {},
   "source": [
    "# Generalised Linear Model\n",
    "Logistic regression is a **GLM** in terms of being a generalisation of linear regression for classification whereby it uses a **link function** (Sigmoid Function) to map outputs into probabilities [0,1]\n",
    "  \n",
    "This is because: $$y_i\\in \\{0,1\\}$$\n",
    "       \n",
    "**Linear Regression Hypothesis**: $$h(x) =\\theta^Tx$$\n",
    "**Logistic Regression Hypothesis**: $$h(x) = \\sigma({\\theta^Tx})$$\n",
    "\n",
    "Therefore, for logistic regression we want our hypothesis:\n",
    "$$ 0\\leq h_\\theta(x) \\leq 1$$\n",
    "\n",
    "Where our link function is the Sigmoid function: $$\\sigma = \\frac{1}{1+e^{-z}} = \\frac{1}{1+e^{-\\theta^Tx}}$$  \n",
    "  \n",
    "- Now we know what $\\sigma$ denotes  \n",
    "  \n",
    "  \n",
    "Noting that z (as shown above):\n",
    "$$z = \\sum_{i=1}^{m} w_ix_i = {\\theta^Tx}$$\n",
    "\n",
    "\n",
    "\n",
    "  \n",
    "The linear part of the model predicts the log-odds of an example belonging to class 1, which is converted to a probability via the logistic function.\n",
    "\n",
    "We need a loss function that expresses, for an observation x, how close the classifier\n",
    "output is to the correct output which is 0 or 1\n",
    "  \n",
    "$$\\hat{y} = \\sigma({\\theta^Tx})$$\n",
    "\n",
    "Notably, how much the predicted $\\hat{y}$ differes from the true y will be denoted as folows:  \n",
    "  \n",
    "  \n",
    "$$L(\\hat{y},y)$$  \n"
   ]
  },
  {
   "cell_type": "markdown",
   "metadata": {},
   "source": [
    "## Bernoulli Distribution\n",
    "\n",
    "Since there are only two discrete outcomes (1 or 0), this is a Bernoulli distribution, and we can\n",
    "express the probability $p(y|x)$ that our classifier produces for one observation as\n",
    "the following:\n",
    "$$P(y|x) = \\hat{y}^y.(1-\\hat{y})^{1-y}$$"
   ]
  },
  {
   "cell_type": "markdown",
   "metadata": {},
   "source": [
    "# COST FUNCTION\n",
    "### Learning the weights $\\theta/w$ of the logistic cost function by argmin our cost function"
   ]
  },
  {
   "cell_type": "markdown",
   "metadata": {},
   "source": [
    "For linear regression we defined the sum-of-squared-errors cost function as:\n",
    "\n",
    "$$J(\\theta) = \\frac{1}{2m}\\sum_{i=1}^{m}(h_\\theta(x^{(i)})-y^{(i)})^2$$\n",
    "\n",
    "Notably is we used least squares for our logistic cost function we would encounter a non-convex cost function will numerous local minima/maxima.\n",
    "\n",
    "$$L(w) = P(y|x;\\theta) =  \\prod_{i=1}^{n} (\\sigma(\\theta^Tx^{(i)}))^{y^{(i)}} \\prod_{i=1}^{n} (1-\\sigma(\\theta^Tx^{(i)}))^{1-y^{(i)}}$$\n",
    "\n",
    "Notably this is the same as our Bernoulli illustrated above and if we take the probability that an observation is a member of a class: \n",
    "\n",
    "$$Bernoulli = P(y|x) = \\hat{y}^y.(1-\\hat{y})^{1-y}$$\n",
    "\n",
    "$$Class 1 = P({y = 1|x; \\theta}) = \\sigma({\\theta^Tx})$$\n",
    "  \n",
    "$$Class 2 = P({y = 0|x; \\theta}) = 1-\\sigma({\\theta^Tx})$$\n",
    " \n",
    "$$P({y^{(i)} = k|x^{(i)}; \\theta}) = (\\sigma({\\theta^Tx^{(i)}}))^{y^{(i)}}.[1-(\\sigma({\\theta^Tx^{(i)}}))^{1-y^{(i)}}$$\n",
    "\n",
    "In practice, it is easier to maximize the (natural) log of this equation, which is called\n",
    "the log-likelihood function: \n",
    "\n",
    "$$l(w) = logL(w) = \\sum_{i=1}^{m}[y^{(i)}log(\\hat{y}^{(i)})+(1-y)log(1-\\hat{y}^{(i)})]$$"
   ]
  },
  {
   "cell_type": "markdown",
   "metadata": {},
   "source": [
    "### Cross Entropy Loss/ Negative Log Likelihood Loss\n",
    "#### Taking the log of each side of our bernoulli\n",
    "Now we could use an optimization algorithm such as gradient ascent to maximize\n",
    "this log-likelihood function.\n",
    "\n",
    "$$L_{CE}(\\hat{y},y) = -[ylog(\\hat{y}).(1-y)log(1-\\hat{y})]$$\n",
    "$$l(w) = logL(w) = \\sum_{i=1}^{m}[y^{(i)}log(\\hat{y}^{(i)})+(1-y)log(1-\\hat{y}^{(i)})]$$\n",
    "\n",
    "Alternatively\n",
    "\n",
    "We want to know the probability that an observation is a member of a class\n",
    "\n",
    "$$P({y = 1|x; \\theta}) = \\sigma({\\theta^Tx})$$\n",
    "  \n",
    "$$P({y = 0|x; \\theta}) = 1-\\sigma({\\theta^Tx})$$\n",
    "\n",
    "Therefore: \n",
    "$$P({y^{(i)} = k|x^{(i)}; \\theta}) = (\\sigma({\\theta^Tx^{(i)}}))^{y^{(i)}}.[1-(\\sigma({\\theta^Tx^{(i)}}))^{1-y^{(i)}}$$\n",
    "\n",
    "$$LL(\\theta) = -[ylog(\\sigma({\\theta^Tx^{(i)}}).(1-y)log(1-\\sigma({\\theta^Tx^{(i)}})]$$\n",
    "\n",
    "However, we will rewrite the log-likelihood as a cost\n",
    "function J that can be minimized using gradient descent:\n",
    "$$J(w)= \\sum_{i=1}^{m}-[y^{(i)}log(\\hat{y}^{(i)})+(1-y)log(1-\\hat{y}^{(i)})]$$\n",
    "\n",
    "Importantly, we can see that when $y=0$ the first term $ylog(\\hat{y})$ becomes zero, and when $y=1$ for the second term $(1-y)log(1-\\hat{y})$ becomes zero.\n",
    "\n",
    "Therefore, $$ J(\\theta) =\n",
    "  \\begin{cases}\n",
    "    -log(\\hat{y})       & \\quad \\text{if } y = 1\\\\\n",
    "    -log(1-\\hat{y})  & \\quad \\text{if } y = 0\n",
    "  \\end{cases}\n",
    "$$\n"
   ]
  },
  {
   "cell_type": "code",
   "execution_count": 40,
   "metadata": {},
   "outputs": [],
   "source": [
    "def loss_function(X, weight):\n",
    "    y_hat = self.sigmoid(X@weight)\n",
    "    loss = np.mean((np.dot(-y,np.log(y_hat)) - np.dot((1-y),np.log(1-y_hat))))\n",
    "    return loss"
   ]
  },
  {
   "cell_type": "code",
   "execution_count": 18,
   "metadata": {},
   "outputs": [
    {
     "data": {
      "image/png": "[encoded data removed]",
      "text/plain": [
       "<IPython.core.display.Image object>"
      ]
     },
     "execution_count": 18,
     "metadata": {},
     "output_type": "execute_result"
    }
   ],
   "source": [
    "Image(filename='sigmoid.png')"
   ]
  },
  {
   "cell_type": "markdown",
   "metadata": {},
   "source": [
    "The cost apporahces zero if we correctly predict a sample belongs to class 1: $-log(1) = 0$.\n",
    "  \n",
    "Additionally, the cost apporahces zero if we correctly predict a sample does not belong to class 1: $-log(1-0) = 0$ \n",
    "\n",
    "However, if we incorrectly predict the sample, the cost tends towards infinity. Therefore, we penalize wrong predictions at an increasingly larger cost.\n"
   ]
  },
  {
   "cell_type": "markdown",
   "metadata": {},
   "source": [
    "### To Fit Parameteres\n",
    "We need to: $$ min_\\theta J(\\theta) = \\hat{\\theta} = argmin_\\theta \\frac{1}{m}\\sum_{i=1}^{m}L_{CE}(f(x^{(i)};\\theta),y^{(i)})$$\n"
   ]
  },
  {
   "cell_type": "markdown",
   "metadata": {},
   "source": [
    "## Gradient Descent \n",
    "Our goal with gradient descent is to find the optimal weights: minimize the loss\n",
    "function we’ve defined for the model (iteratively update our weight vector)\n",
    "\n",
    "$$\\theta_j:= \\theta_j - \\alpha\\frac{\\partial}{\\partial w} \\left( J(\\theta) \\right)$$"
   ]
  },
  {
   "cell_type": "markdown",
   "metadata": {},
   "source": [
    "## Derivative of Our cost function\n",
    "\n",
    "The partial derivative of our **Sigmoid function** $\\sigma(z)$:\n",
    "\n",
    "$$\\frac{\\partial}{\\partial z}\\sigma(z) = \\sigma(z).(1-\\sigma(z))$$\n",
    "\n",
    "Minimising our Cost function:\n",
    "$$J(\\theta) = -[ylog(\\sigma({\\theta^Tx^{(i)}}).(1-y)log(1-\\sigma({\\theta^Tx^{(i)}}))]$$\n",
    "\n",
    "$$\\frac{\\partial}{\\partial w_j}J(\\theta) = -[ylog(\\sigma({\\theta^Tx^{(i)}}).(1-y)log(1-\\sigma({\\theta^Tx^{(i)}})]\\frac{\\partial}{\\partial w_j}\\sigma(z)$$\n",
    "\n",
    "$$\\frac{\\partial}{\\partial x_j}J(\\theta) = [\\frac{y}{\\sigma(\\theta.x^{(i)})}-\\frac{1-y}{1-\\sigma(\\theta.x^{(i)})}](\\sigma(z))[(1-\\sigma(z))]\\frac{\\partial}{\\partial w_j}z$$\n",
    "\n",
    "$$(y(1-\\sigma(\\theta.x^{(i)}))-(1-y)\\sigma(\\theta.x^{(i)})x_j)$$\n",
    "\n",
    "$$X^T(\\sigma(w^Tx)-y)$$\n",
    "\n",
    "Therefore, our gradient descent update rule is: \n",
    "\n",
    "$$\\theta_j:= \\theta_j - \\alpha \\sum_{i=1}^{m} x^T(\\sigma(w^Tx^{(i)})-y^{(i)})$$\n",
    "\n",
    "or, \n",
    "\n",
    "$$ \\text{repeat until converge} =\n",
    "  \\begin{cases}\n",
    "    \\theta_j :=\\theta_j - \\alpha [\\frac{1}{m}\\sum_{i=1}^{m}(\\sigma(\\theta^Tx^{(i)})-y^{(i)}){x_j}^{(i)}]\n",
    "  \\end{cases}\n",
    "$$\n",
    "\n",
    "Where $\\alpha$ is our learning rate."
   ]
  },
  {
   "cell_type": "markdown",
   "metadata": {},
   "source": [
    "# Avoiding Overfitting through Regularization\n",
    "\n",
    "We want to avoid overfitting our training data as this results in a complex model that does not gerneralize well.\n",
    "- Low Bias (performs well on training data).\n",
    "- High variance (does not generalize well to unseen testing data) \n",
    "  \n",
    "The idea behind introducing regularization into our model is to penalize extreme parameter (weight) values. We are looking for smoother decision boundaries.\n",
    "\n",
    "**L2 Regularization** refered to as Ridge regression in our Linear regression notebook is written as:\n",
    "$$\\frac{\\lambda}{2}||w||^2 = \\frac{\\lambda}{2}\\sum_{j=1}^{m}{\\theta_j}^2$$\n",
    "\n",
    "Notably, we control the degree of regularization with $\\lambda$. If $\\lambda = 0$ we have normal logistic regression with no regularisation."
   ]
  },
  {
   "cell_type": "markdown",
   "metadata": {},
   "source": [
    "# Regularized Logistic Regression Cost Function\n",
    "\n",
    "$$J(\\theta) = -\\frac{1}{m}\\sum_{i=1}^{m}[ylog(\\sigma({\\theta^Tx^{(i)}}).(1-y)log(1-\\sigma({\\theta^Tx^{(i)}}))]+\\frac{\\lambda}{2m}\\sum_{j=1}^{n}{\\theta_j}^2$$\n",
    "\n",
    "### Derivative of our New Cost Function\n",
    "\n",
    "$$\\frac{\\partial}{\\partial \\theta_j}J(\\theta) = \\frac{\\partial}{\\partial \\theta_j}[-\\frac{1}{m}\\sum_{i=1}^{m}(ylog(\\sigma({\\theta^Tx^{(i)}}).(1-y)log(1-\\sigma({\\theta^Tx^{(i)}})))+\\frac{\\lambda}{2m}\\sum_{j=1}^{n}{\\theta_j}^2]$$\n",
    "  \n",
    "$$\\frac{1}{m}\\sum_{i=1}^{m}(\\sigma(\\theta^Tx^{(i)})-y^{(i)}){x_j}^{(i)}+\\frac{\\lambda}{m}\\theta_j$$\n",
    "\n",
    "The only difference is that we are just taking the derivative of the **L2** term:\n",
    "$$\\frac{\\partial}{\\partial \\theta_j}L2 =  \\frac{\\lambda}{2m}\\sum_{j=1}^{n}{\\theta_j}^2 = \\frac{\\lambda}{m}\\theta_j$$"
   ]
  },
  {
   "cell_type": "markdown",
   "metadata": {},
   "source": [
    "#### New Gradient Descent Update Rule\n",
    "\n",
    "$$ \\text{repeat until converge} =\n",
    "  \\begin{cases}\n",
    "    \\theta_0 :=\\theta_0 - \\alpha [\\frac{1}{m}\\sum_{i=1}^{m}(\\sigma(\\theta^Tx^{(i)})-y^{(i)}){x_0}^{(i)}]\\\\\n",
    "    \\theta_j :=\\theta_j - \\alpha [\\frac{1}{m}\\sum_{i=1}^{m}(\\sigma(\\theta^Tx^{(i)})-y^{(i)}){x_j}^{(i)}+ \\frac{\\lambda}{m}\\theta_j ]\n",
    "  \\end{cases}\n",
    "$$\n",
    "\n",
    "Notably, in the instance of $j=0$, there is no regularization term included as $x_0 = 1$ (normally our intercept). This is consistent with the convention followed for regularization.\n"
   ]
  },
  {
   "cell_type": "markdown",
   "metadata": {},
   "source": [
    "# Regularized Logistic Regression Through Stochastic Gradient Descent"
   ]
  },
  {
   "cell_type": "code",
   "execution_count": 54,
   "metadata": {},
   "outputs": [],
   "source": [
    "iris = sns.load_dataset('iris')\n",
    "y = iris.iloc[0:75,4]\n",
    "y = np.where(y == 'setosa', 0, 1)\n",
    "X = iris.iloc[0:75, [0, 2]].values"
   ]
  },
  {
   "cell_type": "code",
   "execution_count": 34,
   "metadata": {},
   "outputs": [],
   "source": [
    "class LogisticRegressionClassifier():\n",
    "    \"\"\"Logistic Regression Classifier using Stochastic Gradient Descent.\n",
    "    \n",
    "    Parameters\n",
    "    -----------\n",
    "    eta : float\n",
    "        learning rate (between 0.0 to 1.0)\n",
    "    epochs: int  \n",
    "        number of passess over training dataset\n",
    "    tol: float\n",
    "        tolerence \n",
    "    penalty: int\n",
    "        strength of regularization\n",
    "\n",
    "    \"\"\"\n",
    "    def __init__ (self, eta=0.1,epochs=40,tol= 1e-4,penalty=1):\n",
    "        # GD params\n",
    "        self.eta = eta\n",
    "        self.epochs = epochs\n",
    "        self.tol = tol\n",
    "        self.penalty = penalty\n",
    "    \n",
    "        #design matrix\n",
    "        self.center = True\n",
    "        self.add_intercept = True\n",
    "        self.scale = True\n",
    "        \n",
    "        self.traiing_loss_history = []\n",
    "        \n",
    "    def design_matrix(self,X):\n",
    "        if self.center:\n",
    "            X = X - self.means\n",
    "        if self.scale:\n",
    "            X = X/self.standard_error\n",
    "        if self.add_intercept:\n",
    "            X = np.c_[np.ones((len(X))),X]\n",
    "            \n",
    "        return X\n",
    "    \n",
    "    def fit_center_scale(self,X):\n",
    "        self.means = np.mean(X,axis=0)\n",
    "        self.standard_error = np.std(X,axis=0)\n",
    "        \n",
    "    def sigmoid(self,z):\n",
    "        return 1/(1+np.exp(-z))\n",
    "\n",
    "    \n",
    "    def fit(self,X,y):\n",
    "        \"\"\"Fit training data.\n",
    "        Parameters\n",
    "        -------------\n",
    "        X: {array-like} - shape = [n_samples, n_features]\n",
    "            Training Values\n",
    "        y: {array-like} - shape = [n_samples]\n",
    "            Target Values\n",
    "        \"\"\"\n",
    "        self.fit_center_scale(X)\n",
    "        sigmoid = self.sigmoid\n",
    "        \n",
    "        #add intercept to design matrix\n",
    "        n,m = X.shape\n",
    "        X = self.design_matrix(X)\n",
    "        \n",
    "        \n",
    "        #convergence check\n",
    "        previous_loss = -float('inf')\n",
    "        self.converged = False\n",
    "        \n",
    "        #initialise parameters\n",
    "        weight = np.zeros(m + (1 if self.add_intercept else 0))\n",
    "        \n",
    "        for epoch in range(self.epochs):\n",
    "            for i in range(n):\n",
    "                random_index = np.random.randint(n)\n",
    "                Xi = X[random_index:random_index+1]\n",
    "                Yi = y[random_index:random_index+1]\n",
    "                Z = np.dot(Xi,weight)\n",
    "                A = sigmoid(Z)\n",
    "                gradient= np.dot(Xi.T,(A-Yi)) \n",
    "                gradient[1:] += (self.penalty/n) * weight[1:]\n",
    "                self.learning_rate = self.learning_schedule(epoch * n + i)\n",
    "                #self.loss = np.mean((np.dot(-Yi,np.log(A)) - np.dot((1-Yi),np.log(1-A))))\n",
    "    \n",
    "                weight -= self.eta * gradient\n",
    " \n",
    "                #self.traiing_loss_history.append(self.loss)\n",
    "            \n",
    "                # convergence check\n",
    "            y_hat = self.sigmoid(X@weight)\n",
    "            loss = np.mean((np.dot(-y,np.log(y_hat)) - np.dot((1-y),np.log(1-y_hat))))\n",
    "            reg = (self.penalty/(2*n))*(weight[1:].T@weight[1:])\n",
    "            self.loss = loss + reg\n",
    "            \n",
    "            if abs(previous_loss - self.loss) < self.tol:\n",
    "                self.converged = True\n",
    "                break\n",
    "            else:\n",
    "                previous_loss = self.loss\n",
    "            self.traiing_loss_history.append(self.loss)\n",
    "            \n",
    "        self.weight = weight\n",
    "        self.iterations = i+1\n",
    "        \n",
    "        return self\n",
    "        \n",
    "    def predict_proba(self, X):\n",
    "        # add intercept column to the design matrix\n",
    "        X = self.design_matrix(X)\n",
    "        Z = np.dot(X,self.weight)\n",
    "        return self.sigmoid(Z)   \n",
    "        \n",
    "    def predict(self, X):\n",
    "        return (self.predict_proba(X) > 0.5).astype(int)\n",
    "    \n",
    "    def learning_schedule(self,t,t0 =5, t1 = 50):\n",
    "        return t0 / (t + t1)"
   ]
  },
  {
   "cell_type": "code",
   "execution_count": 35,
   "metadata": {},
   "outputs": [
    {
     "data": {
      "text/plain": [
       "<AxesSubplot:>"
      ]
     },
     "execution_count": 35,
     "metadata": {},
     "output_type": "execute_result"
    },
    {
     "data": {
      "image/png": "[encoded data removed]",
      "text/plain": [
       "<Figure size 432x288 with 1 Axes>"
      ]
     },
     "metadata": {
      "needs_background": "light"
     },
     "output_type": "display_data"
    }
   ],
   "source": [
    "logreg = LogisticRegressionClassifier(eta=0.001,penalty=10)\n",
    "logreg.fit(X,y)\n",
    "plot_decision_regions(X, y, clf=logreg, legend=2)"
   ]
  },
  {
   "cell_type": "code",
   "execution_count": null,
   "metadata": {},
   "outputs": [],
   "source": []
  }
 ],
 "metadata": {
  "kernelspec": {
   "display_name": "Python 3",
   "language": "python",
   "name": "python3"
  },
  "language_info": {
   "codemirror_mode": {
    "name": "ipython",
    "version": 3
   },
   "file_extension": ".py",
   "mimetype": "text/x-python",
   "name": "python",
   "nbconvert_exporter": "python",
   "pygments_lexer": "ipython3",
   "version": "3.7.6"
  }
 },
 "nbformat": 4,
 "nbformat_minor": 4
}
